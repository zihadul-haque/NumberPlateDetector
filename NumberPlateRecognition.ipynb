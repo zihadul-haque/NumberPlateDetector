{
  "nbformat": 4,
  "nbformat_minor": 0,
  "metadata": {
    "colab": {
      "provenance": [],
      "gpuType": "T4",
      "authorship_tag": "ABX9TyMAQn8sbV8e1boofZxERZyK",
      "include_colab_link": true
    },
    "kernelspec": {
      "name": "python3",
      "display_name": "Python 3"
    },
    "language_info": {
      "name": "python"
    },
    "accelerator": "GPU"
  },
  "cells": [
    {
      "cell_type": "markdown",
      "metadata": {
        "id": "view-in-github",
        "colab_type": "text"
      },
      "source": [
        "<a href=\"https://colab.research.google.com/github/zihadul-haque/anpr_EasyOCR/blob/main/NumberPlateRecognition.ipynb\" target=\"_parent\"><img src=\"https://colab.research.google.com/assets/colab-badge.svg\" alt=\"Open In Colab\"/></a>"
      ]
    },
    {
      "cell_type": "code",
      "execution_count": null,
      "metadata": {
        "colab": {
          "base_uri": "https://localhost:8080/"
        },
        "id": "3i7YWTqoANBX",
        "outputId": "7917efde-485a-4001-8087-ab325161a25a"
      },
      "outputs": [
        {
          "output_type": "stream",
          "name": "stdout",
          "text": [
            "Drive already mounted at /content/drive; to attempt to forcibly remount, call drive.mount(\"/content/drive\", force_remount=True).\n"
          ]
        }
      ],
      "source": [
        "from google.colab import drive\n",
        "drive.mount('/content/drive')"
      ]
    },
    {
      "cell_type": "code",
      "source": [
        "import os\n",
        "os.getcwd()"
      ],
      "metadata": {
        "colab": {
          "base_uri": "https://localhost:8080/",
          "height": 36
        },
        "id": "JoG-xMowAx2a",
        "outputId": "07d7b89f-9e13-41dc-b1bd-5c394f75f063"
      },
      "execution_count": null,
      "outputs": [
        {
          "output_type": "execute_result",
          "data": {
            "text/plain": [
              "'/content'"
            ],
            "application/vnd.google.colaboratory.intrinsic+json": {
              "type": "string"
            }
          },
          "metadata": {},
          "execution_count": 1
        }
      ]
    },
    {
      "cell_type": "code",
      "source": [],
      "metadata": {
        "colab": {
          "base_uri": "https://localhost:8080/"
        },
        "id": "dMWtbyqDDcDw",
        "outputId": "25de52a7-faac-407c-ea37-5c839f4e3051"
      },
      "execution_count": null,
      "outputs": [
        {
          "output_type": "stream",
          "name": "stdout",
          "text": [
            "/content/drive/MyDrive/EasyOCR/trainer\n"
          ]
        }
      ]
    },
    {
      "cell_type": "code",
      "source": [
        "%pip install torch==1.12.0+cu113 torchvision==0.13.0+cu113 torchaudio==0.12.0 -f https://download.pytorch.org/whl/torch_stable.html\n",
        "\n"
      ],
      "metadata": {
        "colab": {
          "base_uri": "https://localhost:8080/",
          "height": 782
        },
        "id": "uIiBMbehTDoz",
        "outputId": "d4a8ffc3-0005-4646-d416-43940156cdfa"
      },
      "execution_count": null,
      "outputs": [
        {
          "output_type": "stream",
          "name": "stdout",
          "text": [
            "Looking in links: https://download.pytorch.org/whl/torch_stable.html\n",
            "Collecting torch==1.12.0+cu113\n",
            "  Downloading https://download.pytorch.org/whl/cu113/torch-1.12.0%2Bcu113-cp310-cp310-linux_x86_64.whl (1837.6 MB)\n",
            "\u001b[2K     \u001b[90m━━━━━━━━━━━━━━━━━━━━━━━━━━━━━━━━━━━━━━━━\u001b[0m \u001b[32m1.8/1.8 GB\u001b[0m \u001b[31m960.3 kB/s\u001b[0m eta \u001b[36m0:00:00\u001b[0m\n",
            "\u001b[?25hCollecting torchvision==0.13.0+cu113\n",
            "  Downloading https://download.pytorch.org/whl/cu113/torchvision-0.13.0%2Bcu113-cp310-cp310-linux_x86_64.whl (23.4 MB)\n",
            "\u001b[2K     \u001b[90m━━━━━━━━━━━━━━━━━━━━━━━━━━━━━━━━━━━━━━━━\u001b[0m \u001b[32m23.4/23.4 MB\u001b[0m \u001b[31m66.1 MB/s\u001b[0m eta \u001b[36m0:00:00\u001b[0m\n",
            "\u001b[?25hCollecting torchaudio==0.12.0\n",
            "  Downloading https://download.pytorch.org/whl/rocm5.1.1/torchaudio-0.12.0%2Brocm5.1.1-cp310-cp310-linux_x86_64.whl (3.5 MB)\n",
            "\u001b[2K     \u001b[90m━━━━━━━━━━━━━━━━━━━━━━━━━━━━━━━━━━━━━━━━\u001b[0m \u001b[32m3.5/3.5 MB\u001b[0m \u001b[31m33.0 MB/s\u001b[0m eta \u001b[36m0:00:00\u001b[0m\n",
            "\u001b[?25hRequirement already satisfied: typing-extensions in /usr/local/lib/python3.10/dist-packages (from torch==1.12.0+cu113) (4.5.0)\n",
            "Requirement already satisfied: numpy in /usr/local/lib/python3.10/dist-packages (from torchvision==0.13.0+cu113) (1.23.5)\n",
            "Requirement already satisfied: requests in /usr/local/lib/python3.10/dist-packages (from torchvision==0.13.0+cu113) (2.31.0)\n",
            "Requirement already satisfied: pillow!=8.3.*,>=5.3.0 in /usr/local/lib/python3.10/dist-packages (from torchvision==0.13.0+cu113) (9.4.0)\n",
            "Requirement already satisfied: charset-normalizer<4,>=2 in /usr/local/lib/python3.10/dist-packages (from requests->torchvision==0.13.0+cu113) (3.2.0)\n",
            "Requirement already satisfied: idna<4,>=2.5 in /usr/local/lib/python3.10/dist-packages (from requests->torchvision==0.13.0+cu113) (3.4)\n",
            "Requirement already satisfied: urllib3<3,>=1.21.1 in /usr/local/lib/python3.10/dist-packages (from requests->torchvision==0.13.0+cu113) (2.0.4)\n",
            "Requirement already satisfied: certifi>=2017.4.17 in /usr/local/lib/python3.10/dist-packages (from requests->torchvision==0.13.0+cu113) (2023.7.22)\n",
            "Installing collected packages: torch, torchvision, torchaudio\n",
            "  Attempting uninstall: torch\n",
            "    Found existing installation: torch 2.0.1+cu118\n",
            "    Uninstalling torch-2.0.1+cu118:\n",
            "      Successfully uninstalled torch-2.0.1+cu118\n",
            "  Attempting uninstall: torchvision\n",
            "    Found existing installation: torchvision 0.15.2+cu118\n",
            "    Uninstalling torchvision-0.15.2+cu118:\n",
            "      Successfully uninstalled torchvision-0.15.2+cu118\n",
            "  Attempting uninstall: torchaudio\n",
            "    Found existing installation: torchaudio 2.0.2+cu118\n",
            "    Uninstalling torchaudio-2.0.2+cu118:\n",
            "      Successfully uninstalled torchaudio-2.0.2+cu118\n",
            "\u001b[31mERROR: pip's dependency resolver does not currently take into account all the packages that are installed. This behaviour is the source of the following dependency conflicts.\n",
            "torchdata 0.6.1 requires torch==2.0.1, but you have torch 1.12.0+cu113 which is incompatible.\n",
            "torchtext 0.15.2 requires torch==2.0.1, but you have torch 1.12.0+cu113 which is incompatible.\u001b[0m\u001b[31m\n",
            "\u001b[0mSuccessfully installed torch-1.12.0+cu113 torchaudio-0.12.0+rocm5.1.1 torchvision-0.13.0+cu113\n"
          ]
        },
        {
          "output_type": "display_data",
          "data": {
            "application/vnd.colab-display-data+json": {
              "pip_warning": {
                "packages": [
                  "torch"
                ]
              }
            }
          },
          "metadata": {}
        }
      ]
    },
    {
      "cell_type": "code",
      "source": [
        "import torch\n",
        "\n",
        "print(torch.__version__)"
      ],
      "metadata": {
        "colab": {
          "base_uri": "https://localhost:8080/"
        },
        "id": "q59G-oOsLPu7",
        "outputId": "2cca6046-2e1d-49be-a2f1-a3d70f61f5a0"
      },
      "execution_count": null,
      "outputs": [
        {
          "output_type": "stream",
          "name": "stdout",
          "text": [
            "1.12.0+cu113\n"
          ]
        }
      ]
    },
    {
      "cell_type": "code",
      "source": [
        "\n",
        "pip install -r ../requirements.txt"
      ],
      "metadata": {
        "id": "Mphpiw7sD6At"
      },
      "execution_count": null,
      "outputs": []
    },
    {
      "cell_type": "code",
      "source": [
        "import os\n",
        "os.getcwd()"
      ],
      "metadata": {
        "id": "ltROajfQV3jk",
        "colab": {
          "base_uri": "https://localhost:8080/",
          "height": 36
        },
        "outputId": "4e279169-d4d8-4ffc-e772-43bc5f2cb3f8"
      },
      "execution_count": null,
      "outputs": [
        {
          "output_type": "execute_result",
          "data": {
            "text/plain": [
              "'/content/drive/MyDrive/EasyOCR/trainer'"
            ],
            "application/vnd.google.colaboratory.intrinsic+json": {
              "type": "string"
            }
          },
          "metadata": {},
          "execution_count": 11
        }
      ]
    },
    {
      "cell_type": "code",
      "source": [
        "%cd drive/MyDrive/EasyOCR/trainer"
      ],
      "metadata": {
        "colab": {
          "base_uri": "https://localhost:8080/"
        },
        "id": "YEnlsvrrV3f5",
        "outputId": "f86a6524-f67f-4d30-a674-16548ab2b4fa"
      },
      "execution_count": null,
      "outputs": [
        {
          "output_type": "stream",
          "name": "stdout",
          "text": [
            "[Errno 2] No such file or directory: 'drive/MyDrive/EasyOCR/trainer'\n",
            "/content/drive/MyDrive/EasyOCR/trainer\n"
          ]
        }
      ]
    },
    {
      "cell_type": "code",
      "source": [
        "\n",
        "import os\n",
        "import torch.backends.cudnn as cudnn\n",
        "import yaml\n",
        "from train import train\n",
        "from utils import AttrDict\n",
        "import pandas as pd"
      ],
      "metadata": {
        "id": "2063tkuiEEL0"
      },
      "execution_count": null,
      "outputs": []
    },
    {
      "cell_type": "code",
      "source": [
        "cudnn.benchmark = True\n",
        "cudnn.deterministic = False"
      ],
      "metadata": {
        "id": "dWNIWLQmEQsb"
      },
      "execution_count": null,
      "outputs": []
    },
    {
      "cell_type": "code",
      "source": [
        "def get_config(file_path):\n",
        "    with open(file_path, 'r', encoding=\"utf8\") as stream:\n",
        "        opt = yaml.safe_load(stream)\n",
        "    opt = AttrDict(opt)\n",
        "    if opt.lang_char == 'None':\n",
        "        characters = ''\n",
        "        for data in opt['select_data'].split('-'):\n",
        "            csv_path = os.path.join(opt['train_data'], data, 'labels.csv')\n",
        "            df = pd.read_csv(csv_path, sep='^([^,]+),', engine='python', usecols=['filename', 'words'], keep_default_na=False)\n",
        "            all_char = ''.join(df['words'])\n",
        "            characters += ''.join(set(all_char))\n",
        "        characters = sorted(set(characters))\n",
        "        opt.character= ''.join(characters)\n",
        "    else:\n",
        "        opt.character = opt.number + opt.symbol + opt.lang_char\n",
        "    os.makedirs(f'./saved_models/{opt.experiment_name}', exist_ok=True)\n",
        "    return opt"
      ],
      "metadata": {
        "id": "TnlHsvVrE3XX"
      },
      "execution_count": null,
      "outputs": []
    },
    {
      "cell_type": "code",
      "source": [
        "opt = get_config(\"config_files/en_filtered_config.yaml\")\n",
        "train(opt, amp=False)"
      ],
      "metadata": {
        "colab": {
          "base_uri": "https://localhost:8080/",
          "height": 1000
        },
        "id": "0yW1eQU2FDUe",
        "outputId": "1ad34218-815d-4abb-bebf-10140f978960"
      },
      "execution_count": null,
      "outputs": [
        {
          "output_type": "stream",
          "name": "stdout",
          "text": [
            "Filtering the images containing characters which are not in opt.character\n",
            "Filtering the images whose label is longer than opt.batch_max_length\n",
            "--------------------------------------------------------------------------------\n",
            "dataset_root: /content/drive/MyDrive/EasyOCR/trainer/all_data/en_filtered\n",
            "opt.select_data: ['/content/drive/MyDrive/EasyOCR/trainer/all_data/en_filtered']\n",
            "opt.batch_ratio: ['1']\n",
            "--------------------------------------------------------------------------------\n",
            "dataset_root:    /content/drive/MyDrive/EasyOCR/trainer/all_data/en_filtered\t dataset: /content/drive/MyDrive/EasyOCR/trainer/all_data/en_filtered\n",
            "/content/drive/MyDrive/EasyOCR/trainer/all_data/en_filtered/\n",
            "sub-directory:\t/.\t num samples: 29\n",
            "num total samples of /content/drive/MyDrive/EasyOCR/trainer/all_data/en_filtered: 29 x 1.0 (total_data_usage_ratio) = 29\n",
            "num samples of /content/drive/MyDrive/EasyOCR/trainer/all_data/en_filtered per batch: 32 x 1.0 (batch_ratio) = 32\n",
            "--------------------------------------------------------------------------------\n",
            "Total_batch_size: 32 = 32\n",
            "--------------------------------------------------------------------------------\n",
            "dataset_root:    /content/drive/MyDrive/EasyOCR/trainer/all_data/en_filtered\t dataset: /\n",
            "/content/drive/MyDrive/EasyOCR/trainer/all_data/en_filtered/\n",
            "sub-directory:\t/.\t num samples: 29\n",
            "--------------------------------------------------------------------------------\n",
            "No Transformation module specified\n",
            "model input parameters 64 800 20 1 256 256 242 34 None ResNet BiLSTM CTC\n",
            "Model:\n",
            "DataParallel(\n",
            "  (module): Model(\n",
            "    (FeatureExtraction): ResNet_FeatureExtractor(\n",
            "      (ConvNet): ResNet(\n",
            "        (conv0_1): Conv2d(1, 16, kernel_size=(3, 3), stride=(1, 1), padding=(1, 1), bias=False)\n",
            "        (bn0_1): BatchNorm2d(16, eps=1e-05, momentum=0.1, affine=True, track_running_stats=True)\n",
            "        (conv0_2): Conv2d(16, 32, kernel_size=(3, 3), stride=(1, 1), padding=(1, 1), bias=False)\n",
            "        (bn0_2): BatchNorm2d(32, eps=1e-05, momentum=0.1, affine=True, track_running_stats=True)\n",
            "        (relu): ReLU(inplace=True)\n",
            "        (maxpool1): MaxPool2d(kernel_size=2, stride=2, padding=0, dilation=1, ceil_mode=False)\n",
            "        (layer1): Sequential(\n",
            "          (0): BasicBlock(\n",
            "            (conv1): Conv2d(32, 64, kernel_size=(3, 3), stride=(1, 1), padding=(1, 1), bias=False)\n",
            "            (bn1): BatchNorm2d(64, eps=1e-05, momentum=0.1, affine=True, track_running_stats=True)\n",
            "            (conv2): Conv2d(64, 64, kernel_size=(3, 3), stride=(1, 1), padding=(1, 1), bias=False)\n",
            "            (bn2): BatchNorm2d(64, eps=1e-05, momentum=0.1, affine=True, track_running_stats=True)\n",
            "            (relu): ReLU(inplace=True)\n",
            "            (downsample): Sequential(\n",
            "              (0): Conv2d(32, 64, kernel_size=(1, 1), stride=(1, 1), bias=False)\n",
            "              (1): BatchNorm2d(64, eps=1e-05, momentum=0.1, affine=True, track_running_stats=True)\n",
            "            )\n",
            "          )\n",
            "        )\n",
            "        (conv1): Conv2d(64, 64, kernel_size=(3, 3), stride=(1, 1), padding=(1, 1), bias=False)\n",
            "        (bn1): BatchNorm2d(64, eps=1e-05, momentum=0.1, affine=True, track_running_stats=True)\n",
            "        (maxpool2): MaxPool2d(kernel_size=2, stride=2, padding=0, dilation=1, ceil_mode=False)\n",
            "        (layer2): Sequential(\n",
            "          (0): BasicBlock(\n",
            "            (conv1): Conv2d(64, 128, kernel_size=(3, 3), stride=(1, 1), padding=(1, 1), bias=False)\n",
            "            (bn1): BatchNorm2d(128, eps=1e-05, momentum=0.1, affine=True, track_running_stats=True)\n",
            "            (conv2): Conv2d(128, 128, kernel_size=(3, 3), stride=(1, 1), padding=(1, 1), bias=False)\n",
            "            (bn2): BatchNorm2d(128, eps=1e-05, momentum=0.1, affine=True, track_running_stats=True)\n",
            "            (relu): ReLU(inplace=True)\n",
            "            (downsample): Sequential(\n",
            "              (0): Conv2d(64, 128, kernel_size=(1, 1), stride=(1, 1), bias=False)\n",
            "              (1): BatchNorm2d(128, eps=1e-05, momentum=0.1, affine=True, track_running_stats=True)\n",
            "            )\n",
            "          )\n",
            "          (1): BasicBlock(\n",
            "            (conv1): Conv2d(128, 128, kernel_size=(3, 3), stride=(1, 1), padding=(1, 1), bias=False)\n",
            "            (bn1): BatchNorm2d(128, eps=1e-05, momentum=0.1, affine=True, track_running_stats=True)\n",
            "            (conv2): Conv2d(128, 128, kernel_size=(3, 3), stride=(1, 1), padding=(1, 1), bias=False)\n",
            "            (bn2): BatchNorm2d(128, eps=1e-05, momentum=0.1, affine=True, track_running_stats=True)\n",
            "            (relu): ReLU(inplace=True)\n",
            "          )\n",
            "        )\n",
            "        (conv2): Conv2d(128, 128, kernel_size=(3, 3), stride=(1, 1), padding=(1, 1), bias=False)\n",
            "        (bn2): BatchNorm2d(128, eps=1e-05, momentum=0.1, affine=True, track_running_stats=True)\n",
            "        (maxpool3): MaxPool2d(kernel_size=2, stride=(2, 1), padding=(0, 1), dilation=1, ceil_mode=False)\n",
            "        (layer3): Sequential(\n",
            "          (0): BasicBlock(\n",
            "            (conv1): Conv2d(128, 256, kernel_size=(3, 3), stride=(1, 1), padding=(1, 1), bias=False)\n",
            "            (bn1): BatchNorm2d(256, eps=1e-05, momentum=0.1, affine=True, track_running_stats=True)\n",
            "            (conv2): Conv2d(256, 256, kernel_size=(3, 3), stride=(1, 1), padding=(1, 1), bias=False)\n",
            "            (bn2): BatchNorm2d(256, eps=1e-05, momentum=0.1, affine=True, track_running_stats=True)\n",
            "            (relu): ReLU(inplace=True)\n",
            "            (downsample): Sequential(\n",
            "              (0): Conv2d(128, 256, kernel_size=(1, 1), stride=(1, 1), bias=False)\n",
            "              (1): BatchNorm2d(256, eps=1e-05, momentum=0.1, affine=True, track_running_stats=True)\n",
            "            )\n",
            "          )\n",
            "          (1): BasicBlock(\n",
            "            (conv1): Conv2d(256, 256, kernel_size=(3, 3), stride=(1, 1), padding=(1, 1), bias=False)\n",
            "            (bn1): BatchNorm2d(256, eps=1e-05, momentum=0.1, affine=True, track_running_stats=True)\n",
            "            (conv2): Conv2d(256, 256, kernel_size=(3, 3), stride=(1, 1), padding=(1, 1), bias=False)\n",
            "            (bn2): BatchNorm2d(256, eps=1e-05, momentum=0.1, affine=True, track_running_stats=True)\n",
            "            (relu): ReLU(inplace=True)\n",
            "          )\n",
            "          (2): BasicBlock(\n",
            "            (conv1): Conv2d(256, 256, kernel_size=(3, 3), stride=(1, 1), padding=(1, 1), bias=False)\n",
            "            (bn1): BatchNorm2d(256, eps=1e-05, momentum=0.1, affine=True, track_running_stats=True)\n",
            "            (conv2): Conv2d(256, 256, kernel_size=(3, 3), stride=(1, 1), padding=(1, 1), bias=False)\n",
            "            (bn2): BatchNorm2d(256, eps=1e-05, momentum=0.1, affine=True, track_running_stats=True)\n",
            "            (relu): ReLU(inplace=True)\n",
            "          )\n",
            "          (3): BasicBlock(\n",
            "            (conv1): Conv2d(256, 256, kernel_size=(3, 3), stride=(1, 1), padding=(1, 1), bias=False)\n",
            "            (bn1): BatchNorm2d(256, eps=1e-05, momentum=0.1, affine=True, track_running_stats=True)\n",
            "            (conv2): Conv2d(256, 256, kernel_size=(3, 3), stride=(1, 1), padding=(1, 1), bias=False)\n",
            "            (bn2): BatchNorm2d(256, eps=1e-05, momentum=0.1, affine=True, track_running_stats=True)\n",
            "            (relu): ReLU(inplace=True)\n",
            "          )\n",
            "          (4): BasicBlock(\n",
            "            (conv1): Conv2d(256, 256, kernel_size=(3, 3), stride=(1, 1), padding=(1, 1), bias=False)\n",
            "            (bn1): BatchNorm2d(256, eps=1e-05, momentum=0.1, affine=True, track_running_stats=True)\n",
            "            (conv2): Conv2d(256, 256, kernel_size=(3, 3), stride=(1, 1), padding=(1, 1), bias=False)\n",
            "            (bn2): BatchNorm2d(256, eps=1e-05, momentum=0.1, affine=True, track_running_stats=True)\n",
            "            (relu): ReLU(inplace=True)\n",
            "          )\n",
            "        )\n",
            "        (conv3): Conv2d(256, 256, kernel_size=(3, 3), stride=(1, 1), padding=(1, 1), bias=False)\n",
            "        (bn3): BatchNorm2d(256, eps=1e-05, momentum=0.1, affine=True, track_running_stats=True)\n",
            "        (layer4): Sequential(\n",
            "          (0): BasicBlock(\n",
            "            (conv1): Conv2d(256, 256, kernel_size=(3, 3), stride=(1, 1), padding=(1, 1), bias=False)\n",
            "            (bn1): BatchNorm2d(256, eps=1e-05, momentum=0.1, affine=True, track_running_stats=True)\n",
            "            (conv2): Conv2d(256, 256, kernel_size=(3, 3), stride=(1, 1), padding=(1, 1), bias=False)\n",
            "            (bn2): BatchNorm2d(256, eps=1e-05, momentum=0.1, affine=True, track_running_stats=True)\n",
            "            (relu): ReLU(inplace=True)\n",
            "          )\n",
            "          (1): BasicBlock(\n",
            "            (conv1): Conv2d(256, 256, kernel_size=(3, 3), stride=(1, 1), padding=(1, 1), bias=False)\n",
            "            (bn1): BatchNorm2d(256, eps=1e-05, momentum=0.1, affine=True, track_running_stats=True)\n",
            "            (conv2): Conv2d(256, 256, kernel_size=(3, 3), stride=(1, 1), padding=(1, 1), bias=False)\n",
            "            (bn2): BatchNorm2d(256, eps=1e-05, momentum=0.1, affine=True, track_running_stats=True)\n",
            "            (relu): ReLU(inplace=True)\n",
            "          )\n",
            "          (2): BasicBlock(\n",
            "            (conv1): Conv2d(256, 256, kernel_size=(3, 3), stride=(1, 1), padding=(1, 1), bias=False)\n",
            "            (bn1): BatchNorm2d(256, eps=1e-05, momentum=0.1, affine=True, track_running_stats=True)\n",
            "            (conv2): Conv2d(256, 256, kernel_size=(3, 3), stride=(1, 1), padding=(1, 1), bias=False)\n",
            "            (bn2): BatchNorm2d(256, eps=1e-05, momentum=0.1, affine=True, track_running_stats=True)\n",
            "            (relu): ReLU(inplace=True)\n",
            "          )\n",
            "        )\n",
            "        (conv4_1): Conv2d(256, 256, kernel_size=(2, 2), stride=(2, 1), padding=(0, 1), bias=False)\n",
            "        (bn4_1): BatchNorm2d(256, eps=1e-05, momentum=0.1, affine=True, track_running_stats=True)\n",
            "        (conv4_2): Conv2d(256, 256, kernel_size=(2, 2), stride=(1, 1), bias=False)\n",
            "        (bn4_2): BatchNorm2d(256, eps=1e-05, momentum=0.1, affine=True, track_running_stats=True)\n",
            "      )\n",
            "    )\n",
            "    (AdaptiveAvgPool): AdaptiveAvgPool2d(output_size=(None, 1))\n",
            "    (SequenceModeling): Sequential(\n",
            "      (0): BidirectionalLSTM(\n",
            "        (rnn): LSTM(256, 256, batch_first=True, bidirectional=True)\n",
            "        (linear): Linear(in_features=512, out_features=256, bias=True)\n",
            "      )\n",
            "      (1): BidirectionalLSTM(\n",
            "        (rnn): LSTM(256, 256, batch_first=True, bidirectional=True)\n",
            "        (linear): Linear(in_features=512, out_features=256, bias=True)\n",
            "      )\n",
            "    )\n",
            "    (Prediction): Linear(in_features=256, out_features=242, bias=True)\n",
            "  )\n",
            ")\n",
            "Modules, Parameters\n",
            "module.FeatureExtraction.ConvNet.conv0_1.weight 144\n",
            "module.FeatureExtraction.ConvNet.bn0_1.weight 16\n",
            "module.FeatureExtraction.ConvNet.bn0_1.bias 16\n",
            "module.FeatureExtraction.ConvNet.conv0_2.weight 4608\n",
            "module.FeatureExtraction.ConvNet.bn0_2.weight 32\n",
            "module.FeatureExtraction.ConvNet.bn0_2.bias 32\n",
            "module.FeatureExtraction.ConvNet.layer1.0.conv1.weight 18432\n",
            "module.FeatureExtraction.ConvNet.layer1.0.bn1.weight 64\n",
            "module.FeatureExtraction.ConvNet.layer1.0.bn1.bias 64\n",
            "module.FeatureExtraction.ConvNet.layer1.0.conv2.weight 36864\n",
            "module.FeatureExtraction.ConvNet.layer1.0.bn2.weight 64\n",
            "module.FeatureExtraction.ConvNet.layer1.0.bn2.bias 64\n",
            "module.FeatureExtraction.ConvNet.layer1.0.downsample.0.weight 2048\n",
            "module.FeatureExtraction.ConvNet.layer1.0.downsample.1.weight 64\n",
            "module.FeatureExtraction.ConvNet.layer1.0.downsample.1.bias 64\n",
            "module.FeatureExtraction.ConvNet.conv1.weight 36864\n",
            "module.FeatureExtraction.ConvNet.bn1.weight 64\n",
            "module.FeatureExtraction.ConvNet.bn1.bias 64\n",
            "module.FeatureExtraction.ConvNet.layer2.0.conv1.weight 73728\n",
            "module.FeatureExtraction.ConvNet.layer2.0.bn1.weight 128\n",
            "module.FeatureExtraction.ConvNet.layer2.0.bn1.bias 128\n",
            "module.FeatureExtraction.ConvNet.layer2.0.conv2.weight 147456\n",
            "module.FeatureExtraction.ConvNet.layer2.0.bn2.weight 128\n",
            "module.FeatureExtraction.ConvNet.layer2.0.bn2.bias 128\n",
            "module.FeatureExtraction.ConvNet.layer2.0.downsample.0.weight 8192\n",
            "module.FeatureExtraction.ConvNet.layer2.0.downsample.1.weight 128\n",
            "module.FeatureExtraction.ConvNet.layer2.0.downsample.1.bias 128\n",
            "module.FeatureExtraction.ConvNet.layer2.1.conv1.weight 147456\n",
            "module.FeatureExtraction.ConvNet.layer2.1.bn1.weight 128\n",
            "module.FeatureExtraction.ConvNet.layer2.1.bn1.bias 128\n",
            "module.FeatureExtraction.ConvNet.layer2.1.conv2.weight 147456\n",
            "module.FeatureExtraction.ConvNet.layer2.1.bn2.weight 128\n",
            "module.FeatureExtraction.ConvNet.layer2.1.bn2.bias 128\n",
            "module.FeatureExtraction.ConvNet.conv2.weight 147456\n",
            "module.FeatureExtraction.ConvNet.bn2.weight 128\n",
            "module.FeatureExtraction.ConvNet.bn2.bias 128\n",
            "module.FeatureExtraction.ConvNet.layer3.0.conv1.weight 294912\n",
            "module.FeatureExtraction.ConvNet.layer3.0.bn1.weight 256\n",
            "module.FeatureExtraction.ConvNet.layer3.0.bn1.bias 256\n",
            "module.FeatureExtraction.ConvNet.layer3.0.conv2.weight 589824\n",
            "module.FeatureExtraction.ConvNet.layer3.0.bn2.weight 256\n",
            "module.FeatureExtraction.ConvNet.layer3.0.bn2.bias 256\n",
            "module.FeatureExtraction.ConvNet.layer3.0.downsample.0.weight 32768\n",
            "module.FeatureExtraction.ConvNet.layer3.0.downsample.1.weight 256\n",
            "module.FeatureExtraction.ConvNet.layer3.0.downsample.1.bias 256\n",
            "module.FeatureExtraction.ConvNet.layer3.1.conv1.weight 589824\n",
            "module.FeatureExtraction.ConvNet.layer3.1.bn1.weight 256\n",
            "module.FeatureExtraction.ConvNet.layer3.1.bn1.bias 256\n",
            "module.FeatureExtraction.ConvNet.layer3.1.conv2.weight 589824\n",
            "module.FeatureExtraction.ConvNet.layer3.1.bn2.weight 256\n",
            "module.FeatureExtraction.ConvNet.layer3.1.bn2.bias 256\n",
            "module.FeatureExtraction.ConvNet.layer3.2.conv1.weight 589824\n",
            "module.FeatureExtraction.ConvNet.layer3.2.bn1.weight 256\n",
            "module.FeatureExtraction.ConvNet.layer3.2.bn1.bias 256\n",
            "module.FeatureExtraction.ConvNet.layer3.2.conv2.weight 589824\n",
            "module.FeatureExtraction.ConvNet.layer3.2.bn2.weight 256\n",
            "module.FeatureExtraction.ConvNet.layer3.2.bn2.bias 256\n",
            "module.FeatureExtraction.ConvNet.layer3.3.conv1.weight 589824\n",
            "module.FeatureExtraction.ConvNet.layer3.3.bn1.weight 256\n",
            "module.FeatureExtraction.ConvNet.layer3.3.bn1.bias 256\n",
            "module.FeatureExtraction.ConvNet.layer3.3.conv2.weight 589824\n",
            "module.FeatureExtraction.ConvNet.layer3.3.bn2.weight 256\n",
            "module.FeatureExtraction.ConvNet.layer3.3.bn2.bias 256\n",
            "module.FeatureExtraction.ConvNet.layer3.4.conv1.weight 589824\n",
            "module.FeatureExtraction.ConvNet.layer3.4.bn1.weight 256\n",
            "module.FeatureExtraction.ConvNet.layer3.4.bn1.bias 256\n",
            "module.FeatureExtraction.ConvNet.layer3.4.conv2.weight 589824\n",
            "module.FeatureExtraction.ConvNet.layer3.4.bn2.weight 256\n",
            "module.FeatureExtraction.ConvNet.layer3.4.bn2.bias 256\n",
            "module.FeatureExtraction.ConvNet.conv3.weight 589824\n",
            "module.FeatureExtraction.ConvNet.bn3.weight 256\n",
            "module.FeatureExtraction.ConvNet.bn3.bias 256\n",
            "module.FeatureExtraction.ConvNet.layer4.0.conv1.weight 589824\n",
            "module.FeatureExtraction.ConvNet.layer4.0.bn1.weight 256\n",
            "module.FeatureExtraction.ConvNet.layer4.0.bn1.bias 256\n",
            "module.FeatureExtraction.ConvNet.layer4.0.conv2.weight 589824\n",
            "module.FeatureExtraction.ConvNet.layer4.0.bn2.weight 256\n",
            "module.FeatureExtraction.ConvNet.layer4.0.bn2.bias 256\n",
            "module.FeatureExtraction.ConvNet.layer4.1.conv1.weight 589824\n",
            "module.FeatureExtraction.ConvNet.layer4.1.bn1.weight 256\n",
            "module.FeatureExtraction.ConvNet.layer4.1.bn1.bias 256\n",
            "module.FeatureExtraction.ConvNet.layer4.1.conv2.weight 589824\n",
            "module.FeatureExtraction.ConvNet.layer4.1.bn2.weight 256\n",
            "module.FeatureExtraction.ConvNet.layer4.1.bn2.bias 256\n",
            "module.FeatureExtraction.ConvNet.layer4.2.conv1.weight 589824\n",
            "module.FeatureExtraction.ConvNet.layer4.2.bn1.weight 256\n",
            "module.FeatureExtraction.ConvNet.layer4.2.bn1.bias 256\n",
            "module.FeatureExtraction.ConvNet.layer4.2.conv2.weight 589824\n",
            "module.FeatureExtraction.ConvNet.layer4.2.bn2.weight 256\n",
            "module.FeatureExtraction.ConvNet.layer4.2.bn2.bias 256\n",
            "module.FeatureExtraction.ConvNet.conv4_1.weight 262144\n",
            "module.FeatureExtraction.ConvNet.bn4_1.weight 256\n",
            "module.FeatureExtraction.ConvNet.bn4_1.bias 256\n",
            "module.FeatureExtraction.ConvNet.conv4_2.weight 262144\n",
            "module.FeatureExtraction.ConvNet.bn4_2.weight 256\n",
            "module.FeatureExtraction.ConvNet.bn4_2.bias 256\n",
            "module.SequenceModeling.0.rnn.weight_ih_l0 262144\n",
            "module.SequenceModeling.0.rnn.weight_hh_l0 262144\n",
            "module.SequenceModeling.0.rnn.bias_ih_l0 1024\n",
            "module.SequenceModeling.0.rnn.bias_hh_l0 1024\n",
            "module.SequenceModeling.0.rnn.weight_ih_l0_reverse 262144\n",
            "module.SequenceModeling.0.rnn.weight_hh_l0_reverse 262144\n",
            "module.SequenceModeling.0.rnn.bias_ih_l0_reverse 1024\n",
            "module.SequenceModeling.0.rnn.bias_hh_l0_reverse 1024\n",
            "module.SequenceModeling.0.linear.weight 131072\n",
            "module.SequenceModeling.0.linear.bias 256\n",
            "module.SequenceModeling.1.rnn.weight_ih_l0 262144\n",
            "module.SequenceModeling.1.rnn.weight_hh_l0 262144\n",
            "module.SequenceModeling.1.rnn.bias_ih_l0 1024\n",
            "module.SequenceModeling.1.rnn.bias_hh_l0 1024\n",
            "module.SequenceModeling.1.rnn.weight_ih_l0_reverse 262144\n",
            "module.SequenceModeling.1.rnn.weight_hh_l0_reverse 262144\n",
            "module.SequenceModeling.1.rnn.bias_ih_l0_reverse 1024\n",
            "module.SequenceModeling.1.rnn.bias_hh_l0_reverse 1024\n",
            "module.SequenceModeling.1.linear.weight 131072\n",
            "module.SequenceModeling.1.linear.bias 256\n",
            "module.Prediction.weight 61952\n",
            "module.Prediction.bias 242\n",
            "Total Trainable Params: 13502434\n",
            "Trainable params num :  13502434\n",
            "Optimizer:\n",
            "Adam (\n",
            "Parameter Group 0\n",
            "    amsgrad: False\n",
            "    betas: (0.9, 0.999)\n",
            "    capturable: False\n",
            "    eps: 1e-08\n",
            "    foreach: None\n",
            "    lr: 0.001\n",
            "    maximize: False\n",
            "    weight_decay: 0\n",
            ")\n",
            "------------ Options -------------\n",
            "number: ০১২৩৪৫৬৭৮৯\n",
            "symbol: !\"#$%&'()*+,-./:;<=>?@[\\]^_`{|}~ €\n",
            "lang_char:  ঢাকা যশোর খুলনা বগুড়া সিলেট ঝিনাইদহ চট্টগ্রাম গাজীপুর মেট্রো অ আ ই ঈ উ ঊ ঋ এ ঐ ও ঔ ক খ গ ঘ ঙ চ ছ জ ঝ ঞ ট ঠ ড ঢ ণ ত থ দ ধ ন প ফ ব ভ ম য র ল শ ষ স া  ি  ু ী  ূ  ৃ ে ৈ ো  ৌ ড় ঢ় য় ০ ১ ২ ৩ ৪ ৫ ৬ ৭ ৮ ৯\n",
            "experiment_name: bn_filtered\n",
            "train_data: /content/drive/MyDrive/EasyOCR/trainer/all_data/en_filtered\n",
            "valid_data: /content/drive/MyDrive/EasyOCR/trainer/all_data/en_filtered\n",
            "manualSeed: 1111\n",
            "workers: 2\n",
            "batch_size: 32\n",
            "num_iter: 1000\n",
            "valInterval: 20\n",
            "saved_model: \n",
            "FT: False\n",
            "optim: adam\n",
            "lr: 0.0001\n",
            "beta1: 0.9\n",
            "rho: 0.95\n",
            "eps: 1e-08\n",
            "grad_clip: 5\n",
            "select_data: ['/content/drive/MyDrive/EasyOCR/trainer/all_data/en_filtered']\n",
            "batch_ratio: ['1']\n",
            "total_data_usage_ratio: 1.0\n",
            "batch_max_length: 34\n",
            "imgH: 64\n",
            "imgW: 800\n",
            "rgb: False\n",
            "contrast_adjust: 0.0\n",
            "sensitive: True\n",
            "PAD: True\n",
            "data_filtering_off: False\n",
            "Transformation: None\n",
            "FeatureExtraction: ResNet\n",
            "SequenceModeling: BiLSTM\n",
            "Prediction: CTC\n",
            "num_fiducial: 20\n",
            "input_channel: 1\n",
            "output_channel: 256\n",
            "hidden_size: 256\n",
            "decode: greedy\n",
            "new_prediction: False\n",
            "freeze_FeatureFxtraction: False\n",
            "freeze_SequenceModeling: False\n",
            "character: ০১২৩৪৫৬৭৮৯!\"#$%&'()*+,-./:;<=>?@[\\]^_`{|}~ € ঢাকা যশোর খুলনা বগুড়া সিলেট ঝিনাইদহ চট্টগ্রাম গাজীপুর মেট্রো অ আ ই ঈ উ ঊ ঋ এ ঐ ও ঔ ক খ গ ঘ ঙ চ ছ জ ঝ ঞ ট ঠ ড ঢ ণ ত থ দ ধ ন প ফ ব ভ ম য র ল শ ষ স া  ি  ু ী  ূ  ৃ ে ৈ ো  ৌ ড় ঢ় য় ০ ১ ২ ৩ ৪ ৫ ৬ ৭ ৮ ৯\n",
            "num_class: 242\n",
            "---------------------------------------\n",
            "\n",
            "training time:  17.987200498580933\n",
            "[20/1000] Train loss: 6.69742, Valid loss: 4.98755, Elapsed_time: 17.98989\n",
            "Current_accuracy : 0.000, Current_norm_ED  : 0.1697\n",
            "Best_accuracy    : 0.000, Best_norm_ED     : 0.1697\n",
            "--------------------------------------------------------------------------------\n",
            "Ground Truth              | Prediction                | Confidence Score & T/F\n",
            "--------------------------------------------------------------------------------\n",
            "ঢাকা মেট্রো-ট ১৬-৬১১৫     | ঢা ট ১৬                   | 0.0000\tFalse\n",
            "বগুড়া ট ১১-১৪০৭          |  ১৬                       | 0.0000\tFalse\n",
            "--------------------------------------------------------------------------------\n",
            "validation time:  1.5408625602722168\n",
            "training time:  17.33060359954834\n",
            "[40/1000] Train loss: 1.24581, Valid loss: 2.53027, Elapsed_time: 36.86172\n",
            "Current_accuracy : 0.000, Current_norm_ED  : 0.3466\n",
            "Best_accuracy    : 0.000, Best_norm_ED     : 0.3466\n",
            "--------------------------------------------------------------------------------\n",
            "Ground Truth              | Prediction                | Confidence Score & T/F\n",
            "--------------------------------------------------------------------------------\n",
            "ঢাকা মেট্রো-গ ২০-৫৩৩২     | ঢা ট ১-৩৯                 | 0.0000\tFalse\n",
            "ঢাকা মেট্রো-ঘ ১৫-৭৪৯৫     | ঢা মটর- ১-৬৩৬             | 0.0000\tFalse\n",
            "--------------------------------------------------------------------------------\n",
            "validation time:  0.9266109466552734\n",
            "training time:  17.334009408950806\n",
            "[60/1000] Train loss: 0.67100, Valid loss: 0.57268, Elapsed_time: 55.12267\n",
            "Current_accuracy : 0.000, Current_norm_ED  : 0.7938\n",
            "Best_accuracy    : 0.000, Best_norm_ED     : 0.7938\n",
            "--------------------------------------------------------------------------------\n",
            "Ground Truth              | Prediction                | Confidence Score & T/F\n",
            "--------------------------------------------------------------------------------\n",
            "ঢাকা মেট্রো-ড ১৪-৬৩৪৬     | ঢাকা মেট্রো-ব ১১-৬৩৬      | 0.0001\tFalse\n",
            "ঢাকা মেট্রো-চ ১৬-০৪৪০     | ঢাকা মেট্রো-চ ২০-০        | 0.0000\tFalse\n",
            "--------------------------------------------------------------------------------\n",
            "validation time:  1.0195410251617432\n",
            "training time:  17.31036353111267\n",
            "[80/1000] Train loss: 0.36165, Valid loss: 0.41943, Elapsed_time: 73.45447\n",
            "Current_accuracy : 0.000, Current_norm_ED  : 0.8110\n",
            "Best_accuracy    : 0.000, Best_norm_ED     : 0.8110\n",
            "--------------------------------------------------------------------------------\n",
            "Ground Truth              | Prediction                | Confidence Score & T/F\n",
            "--------------------------------------------------------------------------------\n",
            "ঢাকা মেট্রো-ট ১৬-৬১১৫     | ঢুলকা মেট্রো-চ ১৬-৬১১     | 0.0000\tFalse\n",
            "ঢাকা মেট্রো-ট ২৪-৫০৫৫     | ঢাকা মেট্রো-ট ২৪-৫০৫      | 0.0004\tFalse\n",
            "--------------------------------------------------------------------------------\n",
            "validation time:  0.9534995555877686\n",
            "training time:  17.448092937469482\n",
            "[100/1000] Train loss: 0.11936, Valid loss: 0.09665, Elapsed_time: 91.85832\n",
            "Current_accuracy : 75.862, Current_norm_ED  : 0.9791\n",
            "Best_accuracy    : 75.862, Best_norm_ED     : 0.9791\n",
            "--------------------------------------------------------------------------------\n",
            "Ground Truth              | Prediction                | Confidence Score & T/F\n",
            "--------------------------------------------------------------------------------\n",
            "ঢাকা মেট্রো-গ ২৯-৫১৬৫     | ঢাকা মেট্রো-গ ২৯-৫১৬৫     | 0.0202\tTrue\n",
            "ঢাকা মেট্রো-ট ১৬-৬১১৫     | ঢাকা মেট্রো-ট ১৬-৬১১৫     | 0.0009\tTrue\n",
            "--------------------------------------------------------------------------------\n",
            "validation time:  1.5429308414459229\n",
            "training time:  17.816792011260986\n",
            "[120/1000] Train loss: 0.04872, Valid loss: 0.11141, Elapsed_time: 111.21919\n",
            "Current_accuracy : 58.621, Current_norm_ED  : 0.9773\n",
            "Best_accuracy    : 75.862, Best_norm_ED     : 0.9791\n",
            "--------------------------------------------------------------------------------\n",
            "Ground Truth              | Prediction                | Confidence Score & T/F\n",
            "--------------------------------------------------------------------------------\n",
            "ঢাকা মেট্রো-গ ১৯-৬৫৩২     | ঢাকা মেট্রো-ঘ ১৯-৬৫৩২     | 0.0379\tFalse\n",
            "ঢাকা মেট্রো-গ ৪৫-৮২৮০     | ঢাকা মেট্রো- ৪৫-৮২৮০      | 0.0063\tFalse\n",
            "--------------------------------------------------------------------------------\n",
            "validation time:  0.8523037433624268\n",
            "training time:  17.32405185699463\n",
            "[140/1000] Train loss: 0.02251, Valid loss: 0.00987, Elapsed_time: 129.39592\n",
            "Current_accuracy : 100.000, Current_norm_ED  : 1.0000\n",
            "Best_accuracy    : 100.000, Best_norm_ED     : 1.0000\n",
            "--------------------------------------------------------------------------------\n",
            "Ground Truth              | Prediction                | Confidence Score & T/F\n",
            "--------------------------------------------------------------------------------\n",
            "ঢাকা মেট্রো-গ ৩৪-৯২৪১     | ঢাকা মেট্রো-গ ৩৪-৯২৪১     | 0.0438\tTrue\n",
            "খুলনা মেট্রো-ন ১১-২১২৪    | খুলনা মেট্রো-ন ১১-২১২৪    | 0.0595\tTrue\n",
            "--------------------------------------------------------------------------------\n",
            "validation time:  1.1938936710357666\n",
            "training time:  17.6284658908844\n",
            "[160/1000] Train loss: 0.00591, Valid loss: 0.00404, Elapsed_time: 148.22026\n",
            "Current_accuracy : 100.000, Current_norm_ED  : 1.0000\n",
            "Best_accuracy    : 100.000, Best_norm_ED     : 1.0000\n",
            "--------------------------------------------------------------------------------\n",
            "Ground Truth              | Prediction                | Confidence Score & T/F\n",
            "--------------------------------------------------------------------------------\n",
            "ঢাকা মেট্রো-চ ১৯-৫৪০৯     | ঢাকা মেট্রো-চ ১৯-৫৪০৯     | 0.0674\tTrue\n",
            "ঢাকা মেট্রো-গ ১৯-৬৫৩২     | ঢাকা মেট্রো-গ ১৯-৬৫৩২     | 0.2266\tTrue\n",
            "--------------------------------------------------------------------------------\n",
            "validation time:  0.7840480804443359\n",
            "training time:  17.457802772521973\n",
            "[180/1000] Train loss: 0.00318, Valid loss: 0.00262, Elapsed_time: 166.46247\n",
            "Current_accuracy : 100.000, Current_norm_ED  : 1.0000\n",
            "Best_accuracy    : 100.000, Best_norm_ED     : 1.0000\n",
            "--------------------------------------------------------------------------------\n",
            "Ground Truth              | Prediction                | Confidence Score & T/F\n",
            "--------------------------------------------------------------------------------\n",
            "ঢাকা মেট্রো-গ ৩৪-৯২৪১     | ঢাকা মেট্রো-গ ৩৪-৯২৪১     | 0.1730\tTrue\n",
            "ঢাকা মেট্রো-ট ১৬-৬১১৫     | ঢাকা মেট্রো-ট ১৬-৬১১৫     | 0.1623\tTrue\n",
            "--------------------------------------------------------------------------------\n",
            "validation time:  0.7786152362823486\n",
            "training time:  17.67158532142639\n",
            "[200/1000] Train loss: 0.00229, Valid loss: 0.00202, Elapsed_time: 184.91548\n",
            "Current_accuracy : 100.000, Current_norm_ED  : 1.0000\n",
            "Best_accuracy    : 100.000, Best_norm_ED     : 1.0000\n",
            "--------------------------------------------------------------------------------\n",
            "Ground Truth              | Prediction                | Confidence Score & T/F\n",
            "--------------------------------------------------------------------------------\n",
            "বগুড়া ট ১১-১৪০৭          | বগুড়া ট ১১-১৪০৭          | 0.3087\tTrue\n",
            "ঢাকা মেট্রো-ড ১৪-৬৩৪৬     | ঢাকা মেট্রো-ড ১৪-৬৩৪৬     | 0.2733\tTrue\n",
            "--------------------------------------------------------------------------------\n",
            "validation time:  1.008582592010498\n",
            "training time:  17.77963161468506\n",
            "[220/1000] Train loss: 0.00182, Valid loss: 0.00165, Elapsed_time: 203.70630\n",
            "Current_accuracy : 100.000, Current_norm_ED  : 1.0000\n",
            "Best_accuracy    : 100.000, Best_norm_ED     : 1.0000\n",
            "--------------------------------------------------------------------------------\n",
            "Ground Truth              | Prediction                | Confidence Score & T/F\n",
            "--------------------------------------------------------------------------------\n",
            "ঢাকা মেট্রো-গ ৩৪-৯২৪১     | ঢাকা মেট্রো-গ ৩৪-৯২৪১     | 0.2356\tTrue\n",
            "ঢাকা মেট্রো-ন ১৬-০২৬৭     | ঢাকা মেট্রো-ন ১৬-০২৬৭     | 0.1500\tTrue\n",
            "--------------------------------------------------------------------------------\n",
            "validation time:  0.8033862113952637\n",
            "training time:  17.54985213279724\n",
            "[240/1000] Train loss: 0.00152, Valid loss: 0.00140, Elapsed_time: 222.05993\n",
            "Current_accuracy : 100.000, Current_norm_ED  : 1.0000\n",
            "Best_accuracy    : 100.000, Best_norm_ED     : 1.0000\n",
            "--------------------------------------------------------------------------------\n",
            "Ground Truth              | Prediction                | Confidence Score & T/F\n",
            "--------------------------------------------------------------------------------\n",
            "ঢাকা মেট্রো-ড ১৪-৬৩৪৬     | ঢাকা মেট্রো-ড ১৪-৬৩৪৬     | 0.3221\tTrue\n",
            "যশোর ট ১১-৫৭৬৯            | যশোর ট ১১-৫৭৬৯            | 0.3379\tTrue\n",
            "--------------------------------------------------------------------------------\n",
            "validation time:  0.8077392578125\n",
            "training time:  17.48613715171814\n",
            "[260/1000] Train loss: 0.00130, Valid loss: 0.00120, Elapsed_time: 240.35541\n",
            "Current_accuracy : 100.000, Current_norm_ED  : 1.0000\n",
            "Best_accuracy    : 100.000, Best_norm_ED     : 1.0000\n",
            "--------------------------------------------------------------------------------\n",
            "Ground Truth              | Prediction                | Confidence Score & T/F\n",
            "--------------------------------------------------------------------------------\n",
            "ঢাকা মেট্রো-ঢ ৪৪-০৯০৮     | ঢাকা মেট্রো-ঢ ৪৪-০৯০৮     | 0.4657\tTrue\n",
            "চট্ট মেট্রো-ব ১১-১০৩৪     | চট্ট মেট্রো-ব ১১-১০৩৪     | 0.0490\tTrue\n",
            "--------------------------------------------------------------------------------\n",
            "validation time:  0.7706265449523926\n"
          ]
        },
        {
          "output_type": "stream",
          "name": "stderr",
          "text": [
            "Exception ignored in: <function _MultiProcessingDataLoaderIter.__del__ at 0x796e12190820>\n",
            "Traceback (most recent call last):\n",
            "  File \"/usr/local/lib/python3.10/dist-packages/torch/utils/data/dataloader.py\", line 1481, in __del__\n",
            "    self._shutdown_workers()\n",
            "  File \"/usr/local/lib/python3.10/dist-packages/torch/utils/data/dataloader.py\", line 1464, in _shutdown_workers\n",
            "    if w.is_alive():\n",
            "  File \"/usr/lib/python3.10/multiprocessing/process.py\", line 160, in is_alive\n",
            "    assert self._parent_pid == os.getpid(), 'can only test a child process'\n",
            "AssertionError: can only test a child process\n",
            "Exception ignored in: <function _MultiProcessingDataLoaderIter.__del__ at 0x796e12190820>\n",
            "Traceback (most recent call last):\n",
            "  File \"/usr/local/lib/python3.10/dist-packages/torch/utils/data/dataloader.py\", line 1481, in __del__\n",
            "    self._shutdown_workers()\n",
            "  File \"/usr/local/lib/python3.10/dist-packages/torch/utils/data/dataloader.py\", line 1464, in _shutdown_workers\n",
            "    if w.is_alive():\n",
            "  File \"/usr/lib/python3.10/multiprocessing/process.py\", line 160, in is_alive\n",
            "    assert self._parent_pid == os.getpid(), 'can only test a child process'\n",
            "AssertionError: can only test a child process\n",
            "Exception ignored in: <function _MultiProcessingDataLoaderIter.__del__ at 0x796e12190820>\n",
            "Traceback (most recent call last):\n",
            "  File \"/usr/local/lib/python3.10/dist-packages/torch/utils/data/dataloader.py\", line 1481, in __del__\n",
            "    self._shutdown_workers()\n",
            "  File \"/usr/local/lib/python3.10/dist-packages/torch/utils/data/dataloader.py\", line 1464, in _shutdown_workers\n",
            "    if w.is_alive():\n",
            "  File \"/usr/lib/python3.10/multiprocessing/process.py\", line 160, in is_alive\n",
            "    assert self._parent_pid == os.getpid(), 'can only test a child process'\n",
            "AssertionError: can only test a child process\n",
            "Exception ignored in: <function _MultiProcessingDataLoaderIter.__del__ at 0x796e12190820>\n",
            "Traceback (most recent call last):\n",
            "  File \"/usr/local/lib/python3.10/dist-packages/torch/utils/data/dataloader.py\", line 1481, in __del__\n",
            "    self._shutdown_workers()\n",
            "  File \"/usr/local/lib/python3.10/dist-packages/torch/utils/data/dataloader.py\", line 1464, in _shutdown_workers\n",
            "    if w.is_alive():\n",
            "  File \"/usr/lib/python3.10/multiprocessing/process.py\", line 160, in is_alive\n",
            "    assert self._parent_pid == os.getpid(), 'can only test a child process'\n",
            "AssertionError: can only test a child process\n",
            "Exception ignored in: <function _MultiProcessingDataLoaderIter.__del__ at 0x796e12190820>\n",
            "Traceback (most recent call last):\n",
            "  File \"/usr/local/lib/python3.10/dist-packages/torch/utils/data/dataloader.py\", line 1481, in __del__\n",
            "    self._shutdown_workers()\n",
            "  File \"/usr/local/lib/python3.10/dist-packages/torch/utils/data/dataloader.py\", line 1464, in _shutdown_workers\n",
            "    if w.is_alive():\n",
            "  File \"/usr/lib/python3.10/multiprocessing/process.py\", line 160, in is_alive\n",
            "    assert self._parent_pid == os.getpid(), 'can only test a child process'\n",
            "AssertionError: can only test a child process\n",
            "Exception ignored in: <function _MultiProcessingDataLoaderIter.__del__ at 0x796e12190820>\n",
            "Traceback (most recent call last):\n",
            "  File \"/usr/local/lib/python3.10/dist-packages/torch/utils/data/dataloader.py\", line 1481, in __del__\n",
            "    self._shutdown_workers()\n",
            "  File \"/usr/local/lib/python3.10/dist-packages/torch/utils/data/dataloader.py\", line 1464, in _shutdown_workers\n",
            "    if w.is_alive():\n",
            "  File \"/usr/lib/python3.10/multiprocessing/process.py\", line 160, in is_alive\n",
            "    assert self._parent_pid == os.getpid(), 'can only test a child process'\n",
            "AssertionError: can only test a child process\n",
            "Exception ignored in: <function _MultiProcessingDataLoaderIter.__del__ at 0x796e12190820>\n",
            "Traceback (most recent call last):\n",
            "  File \"/usr/local/lib/python3.10/dist-packages/torch/utils/data/dataloader.py\", line 1481, in __del__\n",
            "    self._shutdown_workers()\n",
            "  File \"/usr/local/lib/python3.10/dist-packages/torch/utils/data/dataloader.py\", line 1464, in _shutdown_workers\n",
            "    if w.is_alive():\n",
            "  File \"/usr/lib/python3.10/multiprocessing/process.py\", line 160, in is_alive\n",
            "    assert self._parent_pid == os.getpid(), 'can only test a child process'\n",
            "AssertionError: can only test a child process\n",
            "Exception ignored in: <function _MultiProcessingDataLoaderIter.__del__ at 0x796e12190820>\n",
            "Traceback (most recent call last):\n",
            "  File \"/usr/local/lib/python3.10/dist-packages/torch/utils/data/dataloader.py\", line 1481, in __del__\n",
            "    self._shutdown_workers()\n",
            "  File \"/usr/local/lib/python3.10/dist-packages/torch/utils/data/dataloader.py\", line 1464, in _shutdown_workers\n",
            "    if w.is_alive():\n",
            "  File \"/usr/lib/python3.10/multiprocessing/process.py\", line 160, in is_alive\n",
            "    assert self._parent_pid == os.getpid(), 'can only test a child process'\n",
            "AssertionError: can only test a child process\n",
            "Exception ignored in: <function _MultiProcessingDataLoaderIter.__del__ at 0x796e12190820>\n",
            "Traceback (most recent call last):\n",
            "  File \"/usr/local/lib/python3.10/dist-packages/torch/utils/data/dataloader.py\", line 1481, in __del__\n",
            "    self._shutdown_workers()\n",
            "  File \"/usr/local/lib/python3.10/dist-packages/torch/utils/data/dataloader.py\", line 1464, in _shutdown_workers\n",
            "    if w.is_alive():\n",
            "  File \"/usr/lib/python3.10/multiprocessing/process.py\", line 160, in is_alive\n",
            "    assert self._parent_pid == os.getpid(), 'can only test a child process'\n",
            "AssertionError: can only test a child process\n"
          ]
        },
        {
          "output_type": "stream",
          "name": "stdout",
          "text": [
            "training time:  20.121761560440063\n",
            "[280/1000] Train loss: 0.00112, Valid loss: 0.00105, Elapsed_time: 261.25028\n",
            "Current_accuracy : 100.000, Current_norm_ED  : 1.0000\n",
            "Best_accuracy    : 100.000, Best_norm_ED     : 1.0000\n",
            "--------------------------------------------------------------------------------\n",
            "Ground Truth              | Prediction                | Confidence Score & T/F\n",
            "--------------------------------------------------------------------------------\n",
            "ঢাকা মেট্রো-ন ১৬-০২৬৭     | ঢাকা মেট্রো-ন ১৬-০২৬৭     | 0.1661\tTrue\n",
            "ঢাকা মেট্রো-ঢ ৪৪-০৯০৮     | ঢাকা মেট্রো-ঢ ৪৪-০৯০৮     | 0.4886\tTrue\n",
            "--------------------------------------------------------------------------------\n",
            "validation time:  1.0097243785858154\n",
            "training time:  18.038281202316284\n",
            "[300/1000] Train loss: 0.00099, Valid loss: 0.00093, Elapsed_time: 280.30069\n",
            "Current_accuracy : 100.000, Current_norm_ED  : 1.0000\n",
            "Best_accuracy    : 100.000, Best_norm_ED     : 1.0000\n",
            "--------------------------------------------------------------------------------\n",
            "Ground Truth              | Prediction                | Confidence Score & T/F\n",
            "--------------------------------------------------------------------------------\n",
            "ঢাকা মেট্রো-ড ১৪-৬৩৪৬     | ঢাকা মেট্রো-ড ১৪-৬৩৪৬     | 0.3856\tTrue\n",
            "ঢাকা মেট্রো-গ ২০-৫৩৩২     | ঢাকা মেট্রো-গ ২০-৫৩৩২     | 0.4576\tTrue\n",
            "--------------------------------------------------------------------------------\n",
            "validation time:  0.8395750522613525\n",
            "training time:  17.638624906539917\n",
            "[320/1000] Train loss: 0.00087, Valid loss: 0.00083, Elapsed_time: 298.77923\n",
            "Current_accuracy : 100.000, Current_norm_ED  : 1.0000\n",
            "Best_accuracy    : 100.000, Best_norm_ED     : 1.0000\n",
            "--------------------------------------------------------------------------------\n",
            "Ground Truth              | Prediction                | Confidence Score & T/F\n",
            "--------------------------------------------------------------------------------\n",
            "খুলনা মেট্রো-ন ১১-২১২৪    | খুলনা মেট্রো-ন ১১-২১২৪    | 0.1726\tTrue\n",
            "ঢাকা মেট্রো-ছ ৭১-৪২০৯     | ঢাকা মেট্রো-ছ ৭১-৪২০৯     | 0.4829\tTrue\n",
            "--------------------------------------------------------------------------------\n",
            "validation time:  0.7652730941772461\n",
            "training time:  17.526798009872437\n",
            "[340/1000] Train loss: 0.00078, Valid loss: 0.00074, Elapsed_time: 317.07178\n",
            "Current_accuracy : 100.000, Current_norm_ED  : 1.0000\n",
            "Best_accuracy    : 100.000, Best_norm_ED     : 1.0000\n",
            "--------------------------------------------------------------------------------\n",
            "Ground Truth              | Prediction                | Confidence Score & T/F\n",
            "--------------------------------------------------------------------------------\n",
            "ঢাকা মেট্রো-চ ৫৩-৪৯২১     | ঢাকা মেট্রো-চ ৫৩-৪৯২১     | 0.2863\tTrue\n",
            "ঢাকা মেট্রো-চ ১৬-০৪৪০     | ঢাকা মেট্রো-চ ১৬-০৪৪০     | 0.0807\tTrue\n",
            "--------------------------------------------------------------------------------\n",
            "validation time:  0.7796812057495117\n"
          ]
        },
        {
          "output_type": "error",
          "ename": "KeyboardInterrupt",
          "evalue": "ignored",
          "traceback": [
            "\u001b[0;31m---------------------------------------------------------------------------\u001b[0m",
            "\u001b[0;31mKeyboardInterrupt\u001b[0m                         Traceback (most recent call last)",
            "\u001b[0;32m<ipython-input-19-6d4c06a1ca45>\u001b[0m in \u001b[0;36m<cell line: 2>\u001b[0;34m()\u001b[0m\n\u001b[1;32m      1\u001b[0m \u001b[0mopt\u001b[0m \u001b[0;34m=\u001b[0m \u001b[0mget_config\u001b[0m\u001b[0;34m(\u001b[0m\u001b[0;34m\"config_files/en_filtered_config.yaml\"\u001b[0m\u001b[0;34m)\u001b[0m\u001b[0;34m\u001b[0m\u001b[0;34m\u001b[0m\u001b[0m\n\u001b[0;32m----> 2\u001b[0;31m \u001b[0mtrain\u001b[0m\u001b[0;34m(\u001b[0m\u001b[0mopt\u001b[0m\u001b[0;34m,\u001b[0m \u001b[0mamp\u001b[0m\u001b[0;34m=\u001b[0m\u001b[0;32mFalse\u001b[0m\u001b[0;34m)\u001b[0m\u001b[0;34m\u001b[0m\u001b[0;34m\u001b[0m\u001b[0m\n\u001b[0m",
            "\u001b[0;32m/content/drive/MyDrive/EasyOCR/trainer/train.py\u001b[0m in \u001b[0;36mtrain\u001b[0;34m(opt, show_number, amp)\u001b[0m\n\u001b[1;32m    201\u001b[0m             \u001b[0mscaler\u001b[0m\u001b[0;34m.\u001b[0m\u001b[0mupdate\u001b[0m\u001b[0;34m(\u001b[0m\u001b[0;34m)\u001b[0m\u001b[0;34m\u001b[0m\u001b[0;34m\u001b[0m\u001b[0m\n\u001b[1;32m    202\u001b[0m         \u001b[0;32melse\u001b[0m\u001b[0;34m:\u001b[0m\u001b[0;34m\u001b[0m\u001b[0;34m\u001b[0m\u001b[0m\n\u001b[0;32m--> 203\u001b[0;31m             \u001b[0mimage_tensors\u001b[0m\u001b[0;34m,\u001b[0m \u001b[0mlabels\u001b[0m \u001b[0;34m=\u001b[0m \u001b[0mtrain_dataset\u001b[0m\u001b[0;34m.\u001b[0m\u001b[0mget_batch\u001b[0m\u001b[0;34m(\u001b[0m\u001b[0;34m)\u001b[0m\u001b[0;34m\u001b[0m\u001b[0;34m\u001b[0m\u001b[0m\n\u001b[0m\u001b[1;32m    204\u001b[0m             \u001b[0mimage\u001b[0m \u001b[0;34m=\u001b[0m \u001b[0mimage_tensors\u001b[0m\u001b[0;34m.\u001b[0m\u001b[0mto\u001b[0m\u001b[0;34m(\u001b[0m\u001b[0mdevice\u001b[0m\u001b[0;34m)\u001b[0m\u001b[0;34m\u001b[0m\u001b[0;34m\u001b[0m\u001b[0m\n\u001b[1;32m    205\u001b[0m             \u001b[0mtext\u001b[0m\u001b[0;34m,\u001b[0m \u001b[0mlength\u001b[0m \u001b[0;34m=\u001b[0m \u001b[0mconverter\u001b[0m\u001b[0;34m.\u001b[0m\u001b[0mencode\u001b[0m\u001b[0;34m(\u001b[0m\u001b[0mlabels\u001b[0m\u001b[0;34m,\u001b[0m \u001b[0mbatch_max_length\u001b[0m\u001b[0;34m=\u001b[0m\u001b[0mopt\u001b[0m\u001b[0;34m.\u001b[0m\u001b[0mbatch_max_length\u001b[0m\u001b[0;34m)\u001b[0m\u001b[0;34m\u001b[0m\u001b[0;34m\u001b[0m\u001b[0m\n",
            "\u001b[0;32m/content/drive/MyDrive/EasyOCR/trainer/dataset.py\u001b[0m in \u001b[0;36mget_batch\u001b[0;34m(self)\u001b[0m\n\u001b[1;32m    126\u001b[0m                 \u001b[0;32mpass\u001b[0m\u001b[0;34m\u001b[0m\u001b[0;34m\u001b[0m\u001b[0m\n\u001b[1;32m    127\u001b[0m \u001b[0;34m\u001b[0m\u001b[0m\n\u001b[0;32m--> 128\u001b[0;31m         \u001b[0mbalanced_batch_images\u001b[0m \u001b[0;34m=\u001b[0m \u001b[0mtorch\u001b[0m\u001b[0;34m.\u001b[0m\u001b[0mcat\u001b[0m\u001b[0;34m(\u001b[0m\u001b[0mbalanced_batch_images\u001b[0m\u001b[0;34m,\u001b[0m \u001b[0;36m0\u001b[0m\u001b[0;34m)\u001b[0m\u001b[0;34m\u001b[0m\u001b[0;34m\u001b[0m\u001b[0m\n\u001b[0m\u001b[1;32m    129\u001b[0m \u001b[0;34m\u001b[0m\u001b[0m\n\u001b[1;32m    130\u001b[0m         \u001b[0;32mreturn\u001b[0m \u001b[0mbalanced_batch_images\u001b[0m\u001b[0;34m,\u001b[0m \u001b[0mbalanced_batch_texts\u001b[0m\u001b[0;34m\u001b[0m\u001b[0;34m\u001b[0m\u001b[0m\n",
            "\u001b[0;31mKeyboardInterrupt\u001b[0m: "
          ]
        }
      ]
    },
    {
      "cell_type": "code",
      "source": [
        "import sys\n",
        "print(sys.version)\n",
        "!python --version"
      ],
      "metadata": {
        "colab": {
          "base_uri": "https://localhost:8080/"
        },
        "id": "J-dBRwykeLH6",
        "outputId": "a9eecd82-18f9-45ae-e285-4d643250b77e"
      },
      "execution_count": null,
      "outputs": [
        {
          "output_type": "stream",
          "name": "stdout",
          "text": [
            "3.10.12 (main, Jun 11 2023, 05:26:28) [GCC 11.4.0]\n",
            "Python 3.10.12\n"
          ]
        }
      ]
    },
    {
      "cell_type": "code",
      "source": [
        "!sudo apt-get update\n",
        "!sudo apt-get install python3.9\n"
      ],
      "metadata": {
        "colab": {
          "base_uri": "https://localhost:8080/"
        },
        "id": "jA_MybfZeN4s",
        "outputId": "a79c3040-89f0-4b3e-8db7-ba6bb3400846"
      },
      "execution_count": null,
      "outputs": [
        {
          "output_type": "stream",
          "name": "stdout",
          "text": [
            "\r0% [Working]\r            \rGet:1 https://cloud.r-project.org/bin/linux/ubuntu jammy-cran40/ InRelease [3,622 B]\n",
            "Hit:2 https://developer.download.nvidia.com/compute/cuda/repos/ubuntu2204/x86_64  InRelease\n",
            "Get:3 http://security.ubuntu.com/ubuntu jammy-security InRelease [110 kB]\n",
            "Hit:4 http://archive.ubuntu.com/ubuntu jammy InRelease\n",
            "Get:5 http://archive.ubuntu.com/ubuntu jammy-updates InRelease [119 kB]\n",
            "Hit:6 https://ppa.launchpadcontent.net/c2d4u.team/c2d4u4.0+/ubuntu jammy InRelease\n",
            "Get:7 http://archive.ubuntu.com/ubuntu jammy-backports InRelease [109 kB]\n",
            "Get:8 http://security.ubuntu.com/ubuntu jammy-security/main amd64 Packages [966 kB]\n",
            "Hit:9 https://ppa.launchpadcontent.net/deadsnakes/ppa/ubuntu jammy InRelease\n",
            "Get:10 http://archive.ubuntu.com/ubuntu jammy-updates/universe amd64 Packages [1,257 kB]\n",
            "Hit:11 https://ppa.launchpadcontent.net/graphics-drivers/ppa/ubuntu jammy InRelease\n",
            "Get:12 http://archive.ubuntu.com/ubuntu jammy-updates/main amd64 Packages [1,235 kB]\n",
            "Get:13 http://security.ubuntu.com/ubuntu jammy-security/universe amd64 Packages [993 kB]\n",
            "Hit:14 https://ppa.launchpadcontent.net/ubuntugis/ppa/ubuntu jammy InRelease\n",
            "Fetched 4,793 kB in 3s (1,600 kB/s)\n",
            "Reading package lists... Done\n",
            "Reading package lists... Done\n",
            "Building dependency tree... Done\n",
            "Reading state information... Done\n",
            "The following additional packages will be installed:\n",
            "  libpython3.9-minimal libpython3.9-stdlib mailcap mime-support\n",
            "  python3.9-minimal\n",
            "Suggested packages:\n",
            "  python3.9-venv binfmt-support\n",
            "The following NEW packages will be installed:\n",
            "  libpython3.9-minimal libpython3.9-stdlib mailcap mime-support python3.9\n",
            "  python3.9-minimal\n",
            "0 upgraded, 6 newly installed, 0 to remove and 23 not upgraded.\n",
            "Need to get 5,279 kB of archives.\n",
            "After this operation, 19.4 MB of additional disk space will be used.\n",
            "Get:1 http://archive.ubuntu.com/ubuntu jammy/main amd64 mailcap all 3.70+nmu1ubuntu1 [23.8 kB]\n",
            "Get:2 https://ppa.launchpadcontent.net/deadsnakes/ppa/ubuntu jammy/main amd64 libpython3.9-minimal amd64 3.9.18-1+jammy1 [835 kB]\n",
            "Get:3 http://archive.ubuntu.com/ubuntu jammy/main amd64 mime-support all 3.66 [3,696 B]\n",
            "Get:4 https://ppa.launchpadcontent.net/deadsnakes/ppa/ubuntu jammy/main amd64 python3.9-minimal amd64 3.9.18-1+jammy1 [2,079 kB]\n",
            "Get:5 https://ppa.launchpadcontent.net/deadsnakes/ppa/ubuntu jammy/main amd64 libpython3.9-stdlib amd64 3.9.18-1+jammy1 [1,841 kB]\n",
            "Get:6 https://ppa.launchpadcontent.net/deadsnakes/ppa/ubuntu jammy/main amd64 python3.9 amd64 3.9.18-1+jammy1 [496 kB]\n",
            "Fetched 5,279 kB in 7s (799 kB/s)\n",
            "debconf: unable to initialize frontend: Dialog\n",
            "debconf: (No usable dialog-like program is installed, so the dialog based frontend cannot be used. at /usr/share/perl5/Debconf/FrontEnd/Dialog.pm line 78, <> line 6.)\n",
            "debconf: falling back to frontend: Readline\n",
            "debconf: unable to initialize frontend: Readline\n",
            "debconf: (This frontend requires a controlling tty.)\n",
            "debconf: falling back to frontend: Teletype\n",
            "dpkg-preconfigure: unable to re-open stdin: \n",
            "Selecting previously unselected package libpython3.9-minimal:amd64.\n",
            "(Reading database ... 120901 files and directories currently installed.)\n",
            "Preparing to unpack .../0-libpython3.9-minimal_3.9.18-1+jammy1_amd64.deb ...\n",
            "Unpacking libpython3.9-minimal:amd64 (3.9.18-1+jammy1) ...\n",
            "Selecting previously unselected package python3.9-minimal.\n",
            "Preparing to unpack .../1-python3.9-minimal_3.9.18-1+jammy1_amd64.deb ...\n",
            "Unpacking python3.9-minimal (3.9.18-1+jammy1) ...\n",
            "Selecting previously unselected package mailcap.\n",
            "Preparing to unpack .../2-mailcap_3.70+nmu1ubuntu1_all.deb ...\n",
            "Unpacking mailcap (3.70+nmu1ubuntu1) ...\n",
            "Selecting previously unselected package mime-support.\n",
            "Preparing to unpack .../3-mime-support_3.66_all.deb ...\n",
            "Unpacking mime-support (3.66) ...\n",
            "Selecting previously unselected package libpython3.9-stdlib:amd64.\n",
            "Preparing to unpack .../4-libpython3.9-stdlib_3.9.18-1+jammy1_amd64.deb ...\n",
            "Unpacking libpython3.9-stdlib:amd64 (3.9.18-1+jammy1) ...\n",
            "Selecting previously unselected package python3.9.\n",
            "Preparing to unpack .../5-python3.9_3.9.18-1+jammy1_amd64.deb ...\n",
            "Unpacking python3.9 (3.9.18-1+jammy1) ...\n",
            "Setting up libpython3.9-minimal:amd64 (3.9.18-1+jammy1) ...\n",
            "Setting up python3.9-minimal (3.9.18-1+jammy1) ...\n",
            "Setting up mailcap (3.70+nmu1ubuntu1) ...\n",
            "Setting up mime-support (3.66) ...\n",
            "Setting up libpython3.9-stdlib:amd64 (3.9.18-1+jammy1) ...\n",
            "Setting up python3.9 (3.9.18-1+jammy1) ...\n",
            "Processing triggers for man-db (2.10.2-1) ...\n"
          ]
        }
      ]
    },
    {
      "cell_type": "code",
      "source": [
        "%tb"
      ],
      "metadata": {
        "colab": {
          "base_uri": "https://localhost:8080/",
          "height": 311
        },
        "id": "TkCk9mANFSsc",
        "outputId": "b0b60747-0f52-4b18-e703-97c596c2252c"
      },
      "execution_count": null,
      "outputs": [
        {
          "output_type": "error",
          "ename": "SystemExit",
          "evalue": "ignored",
          "traceback": [
            "\u001b[0;31m---------------------------------------------------------------------------\u001b[0m",
            "\u001b[0;31mSystemExit\u001b[0m                                Traceback (most recent call last)",
            "\u001b[0;32m<ipython-input-22-6d4c06a1ca45>\u001b[0m in \u001b[0;36m<cell line: 2>\u001b[0;34m()\u001b[0m\n\u001b[1;32m      1\u001b[0m \u001b[0mopt\u001b[0m \u001b[0;34m=\u001b[0m \u001b[0mget_config\u001b[0m\u001b[0;34m(\u001b[0m\u001b[0;34m\"config_files/en_filtered_config.yaml\"\u001b[0m\u001b[0;34m)\u001b[0m\u001b[0;34m\u001b[0m\u001b[0;34m\u001b[0m\u001b[0m\n\u001b[0;32m----> 2\u001b[0;31m \u001b[0mtrain\u001b[0m\u001b[0;34m(\u001b[0m\u001b[0mopt\u001b[0m\u001b[0;34m,\u001b[0m \u001b[0mamp\u001b[0m\u001b[0;34m=\u001b[0m\u001b[0;32mFalse\u001b[0m\u001b[0;34m)\u001b[0m\u001b[0;34m\u001b[0m\u001b[0;34m\u001b[0m\u001b[0m\n\u001b[0m",
            "\u001b[0;32m/content/drive/MyDrive/EasyOCR/trainer/train.py\u001b[0m in \u001b[0;36mtrain\u001b[0;34m(opt, show_number, amp)\u001b[0m\n\u001b[1;32m    279\u001b[0m         \u001b[0;32mif\u001b[0m \u001b[0mi\u001b[0m \u001b[0;34m==\u001b[0m \u001b[0mopt\u001b[0m\u001b[0;34m.\u001b[0m\u001b[0mnum_iter\u001b[0m\u001b[0;34m:\u001b[0m\u001b[0;34m\u001b[0m\u001b[0;34m\u001b[0m\u001b[0m\n\u001b[1;32m    280\u001b[0m             \u001b[0mprint\u001b[0m\u001b[0;34m(\u001b[0m\u001b[0;34m'end the training'\u001b[0m\u001b[0;34m)\u001b[0m\u001b[0;34m\u001b[0m\u001b[0;34m\u001b[0m\u001b[0m\n\u001b[0;32m--> 281\u001b[0;31m             \u001b[0msys\u001b[0m\u001b[0;34m.\u001b[0m\u001b[0mexit\u001b[0m\u001b[0;34m(\u001b[0m\u001b[0;34m)\u001b[0m\u001b[0;34m\u001b[0m\u001b[0;34m\u001b[0m\u001b[0m\n\u001b[0m\u001b[1;32m    282\u001b[0m         \u001b[0mi\u001b[0m \u001b[0;34m+=\u001b[0m \u001b[0;36m1\u001b[0m\u001b[0;34m\u001b[0m\u001b[0;34m\u001b[0m\u001b[0m\n",
            "\u001b[0;31mSystemExit\u001b[0m: "
          ]
        }
      ]
    },
    {
      "cell_type": "code",
      "source": [],
      "metadata": {
        "id": "2nCxt9xBNAxt"
      },
      "execution_count": null,
      "outputs": []
    }
  ]
}